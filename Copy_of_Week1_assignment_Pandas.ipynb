{
  "cells": [
    {
      "cell_type": "markdown",
      "source": [
        "<h3> Instructions </h3>\n",
        "<br>\n",
        "<p>1. Open the notebook file that needs to be copied and edited.<br>\n",
        "2. Go to the \"File\" tab in the notebook's menu bar.<br>\n",
        "3. Select \"Save to Drive\" to create a copy of the notebook in your own Google Drive.<br>\n",
        "4. Once the notebook is saved to your Drive, open it for editing.<br>\n",
        "<br>\n",
        "To work on the exercises in the notebook, follow these steps:<br>\n",
        "1. Read the instructions and explanations provided for each exercise carefully<br>\n",
        "2. Write your code solutions for each exercise in the designated code cells.<br>\n",
        "3. Download the dataset (.csv file) shared in the folder and upload it to the colab session.<br>\n",
        "\n",
        "Important Note: It is recommended to read and understand the exercises thoroughly, as questions related to this assignment may be asked in a quiz.</p>"
      ],
      "metadata": {
        "id": "DHpZLBBG_zZr"
      },
      "id": "DHpZLBBG_zZr"
    },
    {
      "cell_type": "markdown",
      "id": "6c3f7b3e",
      "metadata": {
        "id": "6c3f7b3e"
      },
      "source": [
        " ## Welcome To The Week1 Assignment\n",
        " \n",
        "#### In this assignment we will analyze the Titanic dataset with the help of pandas <br>"
      ]
    },
    {
      "cell_type": "markdown",
      "id": "89a04c02",
      "metadata": {
        "id": "89a04c02"
      },
      "source": [
        "![Titanic](https://akm-img-a-in.tosshub.com/indiatoday/images/story/201506/bil0510_rms-titanic_647_060515043509.jpg?size=1200:675)"
      ]
    },
    {
      "cell_type": "markdown",
      "id": "fa7b53a5",
      "metadata": {
        "id": "fa7b53a5"
      },
      "source": [
        "`Note: You will be asked various question from this assignment in the Google Form, and also you need to submit this notebook. So Kindly maintain this Notebook Properly`"
      ]
    },
    {
      "cell_type": "markdown",
      "id": "eaf31b2e",
      "metadata": {
        "id": "eaf31b2e"
      },
      "source": [
        "### 1) Start this assignment by importing all the important Libraries\n",
        "for eg. import pandas as pd"
      ]
    },
    {
      "cell_type": "code",
      "execution_count": null,
      "id": "e51b89df",
      "metadata": {
        "id": "e51b89df"
      },
      "outputs": [],
      "source": []
    },
    {
      "cell_type": "markdown",
      "id": "2d6ef581",
      "metadata": {
        "id": "2d6ef581"
      },
      "source": [
        "### 2) Read the csv file and assign it to a variable"
      ]
    },
    {
      "cell_type": "markdown",
      "id": "0508107a",
      "metadata": {
        "id": "0508107a"
      },
      "source": [
        "Note: Download the titanic.csv file from the google drive, and place it in the folder same as this notebook"
      ]
    },
    {
      "cell_type": "code",
      "execution_count": null,
      "id": "62ed9a5e",
      "metadata": {
        "id": "62ed9a5e"
      },
      "outputs": [],
      "source": []
    },
    {
      "cell_type": "markdown",
      "id": "155a41c0",
      "metadata": {
        "id": "155a41c0"
      },
      "source": [
        "#### Display the first 5 entries of DataFrame\n",
        "Hint: use head() function"
      ]
    },
    {
      "cell_type": "code",
      "execution_count": null,
      "id": "41c6f793",
      "metadata": {
        "id": "41c6f793"
      },
      "outputs": [],
      "source": []
    },
    {
      "cell_type": "markdown",
      "id": "42f4fa17",
      "metadata": {
        "id": "42f4fa17"
      },
      "source": [
        "#### Display the last 5 entries of DataFrame\n",
        "Hint: use tail() function"
      ]
    },
    {
      "cell_type": "code",
      "execution_count": null,
      "id": "8118e8be",
      "metadata": {
        "id": "8118e8be"
      },
      "outputs": [],
      "source": []
    },
    {
      "cell_type": "markdown",
      "id": "2eb51ccc",
      "metadata": {
        "id": "2eb51ccc"
      },
      "source": [
        "### 3) Display the shape of the Dataframe"
      ]
    },
    {
      "cell_type": "code",
      "execution_count": null,
      "id": "ab3c9756",
      "metadata": {
        "id": "ab3c9756"
      },
      "outputs": [],
      "source": []
    },
    {
      "cell_type": "markdown",
      "id": "5d337fea",
      "metadata": {
        "id": "5d337fea"
      },
      "source": [
        "### 4) Print all the columns of the Dataframe"
      ]
    },
    {
      "cell_type": "code",
      "execution_count": null,
      "id": "8b3a05db",
      "metadata": {
        "id": "8b3a05db"
      },
      "outputs": [],
      "source": []
    },
    {
      "cell_type": "markdown",
      "id": "4ba56544",
      "metadata": {
        "id": "4ba56544"
      },
      "source": [
        "About Data:<br>\n",
        "__PassangerId__: Passanger Number<br>\n",
        "__Survived__: Dead(0), Alive(1)<br>\n",
        "__PClass__: Class in which the passenger is travelling<br>\n",
        "__Name__: Name of the Passenger<br>\n",
        "__Sex__: Male,Female<br>\n",
        "__Age__: Age of the passenger<br>\n",
        "__SibSp__: Number of siblings<br>\n",
        "__Parch__: # of siblings / spouses aboard the Titanic<br>\n",
        "__Ticket__: Ticket number<br>\n",
        "__Fare__: Passenger Fare<br>\n",
        "__Cabin__: Cabin number<br>\n",
        "__Embarked__: Port of Embarkation (C = Cherbourg, Q = Queenstown, S = Southampton)<br>"
      ]
    },
    {
      "cell_type": "markdown",
      "id": "278f4acb",
      "metadata": {
        "id": "278f4acb"
      },
      "source": [
        "### 5) Print the unique values in each column"
      ]
    },
    {
      "cell_type": "code",
      "execution_count": null,
      "id": "e15eb890",
      "metadata": {
        "id": "e15eb890"
      },
      "outputs": [],
      "source": []
    },
    {
      "cell_type": "markdown",
      "id": "f68d3bfe",
      "metadata": {
        "id": "f68d3bfe"
      },
      "source": [
        "### 6) Find the columns that has null values in them"
      ]
    },
    {
      "cell_type": "markdown",
      "id": "62f6b845",
      "metadata": {
        "id": "62f6b845"
      },
      "source": [
        "Hint: You can use isnull() function"
      ]
    },
    {
      "cell_type": "code",
      "execution_count": null,
      "id": "daf09bac",
      "metadata": {
        "id": "daf09bac"
      },
      "outputs": [],
      "source": []
    },
    {
      "cell_type": "markdown",
      "id": "78c88547",
      "metadata": {
        "id": "78c88547"
      },
      "source": [
        "### 7) Show various statistics of all the numerical columns\n",
        "\n",
        "Hint: Use describe()"
      ]
    },
    {
      "cell_type": "code",
      "execution_count": null,
      "id": "729acc13",
      "metadata": {
        "id": "729acc13"
      },
      "outputs": [],
      "source": []
    },
    {
      "cell_type": "markdown",
      "id": "fbd13819",
      "metadata": {
        "id": "fbd13819"
      },
      "source": [
        "### 8) Drop the column that has maximum null values and update the Dataframe"
      ]
    },
    {
      "cell_type": "code",
      "execution_count": null,
      "id": "f5695aae",
      "metadata": {
        "id": "f5695aae"
      },
      "outputs": [],
      "source": []
    },
    {
      "cell_type": "markdown",
      "id": "cc8807e8",
      "metadata": {
        "id": "cc8807e8"
      },
      "source": [
        "### 9) Display the data type of the remaining columns(use updated dataframe)"
      ]
    },
    {
      "cell_type": "code",
      "execution_count": null,
      "id": "201add96",
      "metadata": {
        "id": "201add96"
      },
      "outputs": [],
      "source": []
    },
    {
      "cell_type": "markdown",
      "id": "8ba5fa0e",
      "metadata": {
        "id": "8ba5fa0e"
      },
      "source": [
        "### 10) Display the sex ratio (female /male)\n",
        "use value_counts()"
      ]
    },
    {
      "cell_type": "code",
      "execution_count": null,
      "id": "07deb9c0",
      "metadata": {
        "id": "07deb9c0"
      },
      "outputs": [],
      "source": []
    },
    {
      "cell_type": "markdown",
      "id": "235fbe14",
      "metadata": {
        "id": "235fbe14"
      },
      "source": [
        "### 11) Find the number of people that Survived"
      ]
    },
    {
      "cell_type": "code",
      "execution_count": null,
      "id": "8fa67a01",
      "metadata": {
        "id": "8fa67a01"
      },
      "outputs": [],
      "source": []
    },
    {
      "cell_type": "markdown",
      "id": "66e18a9f",
      "metadata": {
        "id": "66e18a9f"
      },
      "source": [
        "### 12) Find the person with maximum and minimum age\n",
        "use .max() and .min() <br>\n",
        "You need to print the row of the dataframe where the person with max and min age is present"
      ]
    },
    {
      "cell_type": "code",
      "execution_count": null,
      "id": "450ed385",
      "metadata": {
        "id": "450ed385"
      },
      "outputs": [],
      "source": []
    },
    {
      "cell_type": "code",
      "execution_count": null,
      "id": "008eb3c6",
      "metadata": {
        "id": "008eb3c6"
      },
      "outputs": [],
      "source": []
    },
    {
      "cell_type": "markdown",
      "id": "a31ad9ed",
      "metadata": {
        "id": "a31ad9ed"
      },
      "source": [
        "### 13) Find the number of Class 2 tickets sold"
      ]
    },
    {
      "cell_type": "code",
      "execution_count": null,
      "id": "bc47d22b",
      "metadata": {
        "id": "bc47d22b"
      },
      "outputs": [],
      "source": []
    },
    {
      "cell_type": "markdown",
      "id": "8b091ec3",
      "metadata": {
        "id": "8b091ec3"
      },
      "source": [
        "### 14) Find the number of females who survived the crash"
      ]
    },
    {
      "cell_type": "code",
      "execution_count": null,
      "id": "8d225761",
      "metadata": {
        "id": "8d225761"
      },
      "outputs": [],
      "source": []
    },
    {
      "cell_type": "markdown",
      "id": "b7057097",
      "metadata": {
        "id": "b7057097"
      },
      "source": [
        "### 15) Find the number of people who survived the crash and who paid fare less than 200"
      ]
    },
    {
      "cell_type": "code",
      "execution_count": null,
      "id": "69c52421",
      "metadata": {
        "id": "69c52421"
      },
      "outputs": [],
      "source": []
    },
    {
      "cell_type": "markdown",
      "id": "9bd9a566",
      "metadata": {
        "id": "9bd9a566"
      },
      "source": [
        "### Extra Questions (Will not be considered for evaluation)"
      ]
    },
    {
      "cell_type": "markdown",
      "id": "ea642be1",
      "metadata": {
        "id": "ea642be1"
      },
      "source": [
        "Try plotting different columns with each other, and see what inferences you can think about the dataset"
      ]
    }
  ],
  "metadata": {
    "kernelspec": {
      "display_name": "Python 3 (ipykernel)",
      "language": "python",
      "name": "python3"
    },
    "language_info": {
      "codemirror_mode": {
        "name": "ipython",
        "version": 3
      },
      "file_extension": ".py",
      "mimetype": "text/x-python",
      "name": "python",
      "nbconvert_exporter": "python",
      "pygments_lexer": "ipython3",
      "version": "3.9.7"
    },
    "colab": {
      "provenance": []
    }
  },
  "nbformat": 4,
  "nbformat_minor": 5
}